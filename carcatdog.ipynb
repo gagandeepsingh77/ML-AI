{
 "cells": [
  {
   "cell_type": "code",
   "execution_count": 2,
   "id": "943dd5b7",
   "metadata": {},
   "outputs": [],
   "source": [
    "import numpy as np\n",
    "import pandas as pd \n",
    "from keras.preprocessing.image import ImageDataGenerator, load_img\n",
    "from tensorflow.keras.utils import to_categorical \n",
    "from sklearn.model_selection import train_test_split\n",
    "import matplotlib.pyplot as plt\n",
    "import random\n",
    "import os"
   ]
  },
  {
   "cell_type": "code",
   "execution_count": 4,
   "id": "8953fe5f",
   "metadata": {},
   "outputs": [
    {
     "data": {
      "text/html": [
       "<div>\n",
       "<style scoped>\n",
       "    .dataframe tbody tr th:only-of-type {\n",
       "        vertical-align: middle;\n",
       "    }\n",
       "\n",
       "    .dataframe tbody tr th {\n",
       "        vertical-align: top;\n",
       "    }\n",
       "\n",
       "    .dataframe thead th {\n",
       "        text-align: right;\n",
       "    }\n",
       "</style>\n",
       "<table border=\"1\" class=\"dataframe\">\n",
       "  <thead>\n",
       "    <tr style=\"text-align: right;\">\n",
       "      <th></th>\n",
       "      <th>filename</th>\n",
       "      <th>category</th>\n",
       "    </tr>\n",
       "  </thead>\n",
       "  <tbody>\n",
       "    <tr>\n",
       "      <th>0</th>\n",
       "      <td>car.0.jpg</td>\n",
       "      <td>0</td>\n",
       "    </tr>\n",
       "    <tr>\n",
       "      <th>1</th>\n",
       "      <td>car.1.jpg</td>\n",
       "      <td>0</td>\n",
       "    </tr>\n",
       "    <tr>\n",
       "      <th>2</th>\n",
       "      <td>car.10.jpg</td>\n",
       "      <td>0</td>\n",
       "    </tr>\n",
       "    <tr>\n",
       "      <th>3</th>\n",
       "      <td>car.100.jpg</td>\n",
       "      <td>0</td>\n",
       "    </tr>\n",
       "    <tr>\n",
       "      <th>4</th>\n",
       "      <td>car.101.jpg</td>\n",
       "      <td>0</td>\n",
       "    </tr>\n",
       "    <tr>\n",
       "      <th>...</th>\n",
       "      <td>...</td>\n",
       "      <td>...</td>\n",
       "    </tr>\n",
       "    <tr>\n",
       "      <th>2995</th>\n",
       "      <td>dog.995.jpg</td>\n",
       "      <td>2</td>\n",
       "    </tr>\n",
       "    <tr>\n",
       "      <th>2996</th>\n",
       "      <td>dog.996.jpg</td>\n",
       "      <td>2</td>\n",
       "    </tr>\n",
       "    <tr>\n",
       "      <th>2997</th>\n",
       "      <td>dog.997.jpg</td>\n",
       "      <td>2</td>\n",
       "    </tr>\n",
       "    <tr>\n",
       "      <th>2998</th>\n",
       "      <td>dog.998.jpg</td>\n",
       "      <td>2</td>\n",
       "    </tr>\n",
       "    <tr>\n",
       "      <th>2999</th>\n",
       "      <td>dog.999.jpg</td>\n",
       "      <td>2</td>\n",
       "    </tr>\n",
       "  </tbody>\n",
       "</table>\n",
       "<p>3000 rows × 2 columns</p>\n",
       "</div>"
      ],
      "text/plain": [
       "         filename  category\n",
       "0       car.0.jpg         0\n",
       "1       car.1.jpg         0\n",
       "2      car.10.jpg         0\n",
       "3     car.100.jpg         0\n",
       "4     car.101.jpg         0\n",
       "...           ...       ...\n",
       "2995  dog.995.jpg         2\n",
       "2996  dog.996.jpg         2\n",
       "2997  dog.997.jpg         2\n",
       "2998  dog.998.jpg         2\n",
       "2999  dog.999.jpg         2\n",
       "\n",
       "[3000 rows x 2 columns]"
      ]
     },
     "execution_count": 4,
     "metadata": {},
     "output_type": "execute_result"
    }
   ],
   "source": [
    "filenames = os.listdir('C:\\\\Users\\\\lenovo\\\\Desktop\\\\Web App\\\\cats_dogs_cars\\\\cats_dogs_cars\\\\data')\n",
    "\n",
    "categories = []\n",
    "for filename in filenames:\n",
    "    category = filename.split('.')[0]\n",
    "    if category == 'car': \n",
    "        categories.append(0)  #The categories are set as labels\n",
    "    elif category == 'cat': \n",
    "        categories.append(1)\n",
    "    elif category == 'dog':\n",
    "        categories.append(2)\n",
    "        \n",
    "df = pd.DataFrame({\n",
    "    'filename': filenames,  \n",
    "    'category': categories,    \n",
    "})\n",
    "\n",
    "df\n"
   ]
  },
  {
   "cell_type": "code",
   "execution_count": 5,
   "id": "2fb3564f",
   "metadata": {},
   "outputs": [
    {
     "name": "stdout",
     "output_type": "stream",
     "text": [
      "0    1000\n",
      "1    1000\n",
      "2    1000\n",
      "Name: category, dtype: int64\n",
      "\n",
      " Total images:  3000\n"
     ]
    },
    {
     "data": {
      "image/png": "[encoded data removed]",
      "text/plain": [
       "<Figure size 432x288 with 1 Axes>"
      ]
     },
     "metadata": {
      "needs_background": "light"
     },
     "output_type": "display_data"
    }
   ],
   "source": [
    "df['category'].value_counts().plot.bar()\n",
    "print(df['category'].value_counts())\n",
    "\n",
    "print(\"\\n Total images: \", df.shape[0])"
   ]
  },
  {
   "cell_type": "code",
   "execution_count": 6,
   "id": "34509942",
   "metadata": {},
   "outputs": [
    {
     "name": "stdout",
     "output_type": "stream",
     "text": [
      "Model: \"sequential\"\n",
      "_________________________________________________________________\n",
      " Layer (type)                Output Shape              Param #   \n",
      "=================================================================\n",
      " conv2d (Conv2D)             (None, 148, 148, 32)      896       \n",
      "                                                                 \n",
      " max_pooling2d (MaxPooling2D  (None, 74, 74, 32)       0         \n",
      " )                                                               \n",
      "                                                                 \n",
      " dropout (Dropout)           (None, 74, 74, 32)        0         \n",
      "                                                                 \n",
      " conv2d_1 (Conv2D)           (None, 72, 72, 64)        18496     \n",
      "                                                                 \n",
      " max_pooling2d_1 (MaxPooling  (None, 36, 36, 64)       0         \n",
      " 2D)                                                             \n",
      "                                                                 \n",
      " dropout_1 (Dropout)         (None, 36, 36, 64)        0         \n",
      "                                                                 \n",
      " flatten (Flatten)           (None, 82944)             0         \n",
      "                                                                 \n",
      " dense (Dense)               (None, 96)                7962720   \n",
      "                                                                 \n",
      " dropout_2 (Dropout)         (None, 96)                0         \n",
      "                                                                 \n",
      " dense_1 (Dense)             (None, 3)                 291       \n",
      "                                                                 \n",
      "=================================================================\n",
      "Total params: 7,982,403\n",
      "Trainable params: 7,982,403\n",
      "Non-trainable params: 0\n",
      "_________________________________________________________________\n"
     ]
    }
   ],
   "source": [
    "from keras.models import Sequential\n",
    "from keras.layers import Conv2D, MaxPooling2D, Dropout, Flatten, Dense, Activation, BatchNormalization\n",
    "\n",
    "model2 = Sequential()\n",
    "\n",
    "model2.add(Conv2D(32, (3, 3), activation='relu', input_shape=(150,150, 3)))\n",
    "model2.add(MaxPooling2D(pool_size=(2, 2)))\n",
    "model2.add(Dropout(0.25))\n",
    "\n",
    "model2.add(Conv2D(64, (3, 3), activation='relu'))\n",
    "model2.add(MaxPooling2D(pool_size=(2, 2)))\n",
    "model2.add(Dropout(0.25))\n",
    "\n",
    "model2.add(Flatten())\n",
    "model2.add(Dense(96, activation='relu'))\n",
    "model2.add(Dropout(0.5))\n",
    "model2.add(Dense(3, activation='softmax')) # 3 because we have car, dog and cat classes\n",
    "\n",
    "model2.compile(loss='categorical_crossentropy', optimizer='Adam', metrics=['accuracy'])\n",
    "\n",
    "model2.summary()"
   ]
  },
  {
   "cell_type": "code",
   "execution_count": 7,
   "id": "a747a28f",
   "metadata": {},
   "outputs": [],
   "source": [
    "from keras.callbacks import EarlyStopping, ReduceLROnPlateau\n",
    "\n",
    "earlystop = EarlyStopping(patience=10)\n",
    "learning_rate_reduction = ReduceLROnPlateau(monitor='val_loss', \n",
    "                                            patience=5, \n",
    "                                            verbose=1, \n",
    "                                            factor=0.5, \n",
    "                                            min_lr=0.00001) \n",
    "callbacks = [earlystop, learning_rate_reduction]"
   ]
  },
  {
   "cell_type": "code",
   "execution_count": 8,
   "id": "17c865e3",
   "metadata": {},
   "outputs": [],
   "source": [
    "df[\"category\"] = df[\"category\"].replace({ 0: 'car', 1: 'cat', 2: 'dog' })"
   ]
  },
  {
   "cell_type": "code",
   "execution_count": 10,
   "id": "1078d6a3",
   "metadata": {},
   "outputs": [
    {
     "name": "stdout",
     "output_type": "stream",
     "text": [
      "dog    824\n",
      "cat    813\n",
      "car    763\n",
      "Name: category, dtype: int64\n",
      "\n",
      " Total train images:  2400\n"
     ]
    },
    {
     "data": {
      "image/png": "[encoded data removed]",
      "text/plain": [
       "<Figure size 432x288 with 1 Axes>"
      ]
     },
     "metadata": {
      "needs_background": "light"
     },
     "output_type": "display_data"
    }
   ],
   "source": [
    "train_df, validate_df = train_test_split(df, test_size=0.20, random_state=0) \n",
    "\n",
    "# Lets see total 'TRAIN' files and in each category\n",
    "train_df = train_df.reset_index(drop=True)\n",
    "\n",
    "train_df['category'].value_counts().plot.bar()\n",
    "print(train_df['category'].value_counts())\n",
    "print(\"\\n Total train images: \", train_df.shape[0])"
   ]
  },
  {
   "cell_type": "code",
   "execution_count": 11,
   "id": "7fa9b36e",
   "metadata": {},
   "outputs": [
    {
     "name": "stdout",
     "output_type": "stream",
     "text": [
      "car    237\n",
      "cat    187\n",
      "dog    176\n",
      "Name: category, dtype: int64\n",
      "\n",
      " Total validate images:  600\n"
     ]
    },
    {
     "data": {
      "image/png": "[encoded data removed]",
      "text/plain": [
       "<Figure size 432x288 with 1 Axes>"
      ]
     },
     "metadata": {
      "needs_background": "light"
     },
     "output_type": "display_data"
    }
   ],
   "source": [
    "# Lets see total 'VALIDATE' files and in each category\n",
    "\n",
    "validate_df = validate_df.reset_index(drop=True)\n",
    "validate_df['category'].value_counts().plot.bar()\n",
    "\n",
    "print(validate_df['category'].value_counts())\n",
    "print(\"\\n Total validate images: \", validate_df.shape[0])"
   ]
  },
  {
   "cell_type": "code",
   "execution_count": 12,
   "id": "44cb2722",
   "metadata": {},
   "outputs": [
    {
     "name": "stdout",
     "output_type": "stream",
     "text": [
      "Total train images: 2400\n",
      "Total validate images: 600\n"
     ]
    }
   ],
   "source": [
    "total_train = train_df.shape[0]\n",
    "print(\"Total train images:\", total_train)\n",
    "\n",
    "total_validate = validate_df.shape[0] \n",
    "print(\"Total validate images:\", total_validate)"
   ]
  },
  {
   "cell_type": "code",
   "execution_count": 15,
   "id": "3245c024",
   "metadata": {},
   "outputs": [
    {
     "name": "stdout",
     "output_type": "stream",
     "text": [
      "Found 2400 validated image filenames belonging to 3 classes.\n",
      "Found 600 validated image filenames belonging to 3 classes.\n"
     ]
    }
   ],
   "source": [
    "train_datagen = ImageDataGenerator(\n",
    "                                    rotation_range=15,\n",
    "                                    rescale=1./255,\n",
    "                                    shear_range=0.1,\n",
    "                                    zoom_range=0.2,\n",
    "                                    horizontal_flip=True,\n",
    "                                    width_shift_range=0.1,\n",
    "                                    height_shift_range=0.1\n",
    ")\n",
    "\n",
    "validation_datagen = ImageDataGenerator(rescale=1./255)\n",
    "\n",
    "train_generator = train_datagen.flow_from_dataframe(\n",
    "    train_df, \n",
    "    \"C:\\\\Users\\\\lenovo\\\\Desktop\\\\Web App\\\\cats_dogs_cars\\\\cats_dogs_cars\\\\data\\\\\", \n",
    "    x_col='filename',\n",
    "    y_col='category',\n",
    "    target_size=(150,150),\n",
    "    class_mode='categorical',\n",
    "    batch_size=32\n",
    ")\n",
    "\n",
    "validation_generator = validation_datagen.flow_from_dataframe(\n",
    "    validate_df, \n",
    "    \"C:\\\\Users\\\\lenovo\\\\Desktop\\\\Web App\\\\cats_dogs_cars\\\\cats_dogs_cars\\\\data\\\\\", \n",
    "    x_col='filename',\n",
    "    y_col='category',\n",
    "    target_size=(150,150),\n",
    "    class_mode='categorical',\n",
    "    batch_size=32\n",
    ")"
   ]
  },
  {
   "cell_type": "code",
   "execution_count": 16,
   "id": "b2f81e76",
   "metadata": {},
   "outputs": [
    {
     "name": "stderr",
     "output_type": "stream",
     "text": [
      "C:\\Users\\lenovo\\AppData\\Local\\Temp\\ipykernel_6532\\505187873.py:4: UserWarning: `Model.fit_generator` is deprecated and will be removed in a future version. Please use `Model.fit`, which supports generators.\n",
      "  history = model2.fit_generator(\n"
     ]
    },
    {
     "name": "stdout",
     "output_type": "stream",
     "text": [
      "Epoch 1/50\n",
      "48/48 [==============================] - 82s 2s/step - loss: 1.6840 - accuracy: 0.3828 - val_loss: 0.9462 - val_accuracy: 0.5339 - lr: 0.0010\n",
      "Epoch 2/50\n",
      "48/48 [==============================] - 64s 1s/step - loss: 0.9089 - accuracy: 0.5254 - val_loss: 0.7275 - val_accuracy: 0.6719 - lr: 0.0010\n",
      "Epoch 3/50\n",
      "48/48 [==============================] - 60s 1s/step - loss: 0.7560 - accuracy: 0.6048 - val_loss: 0.6216 - val_accuracy: 0.7161 - lr: 0.0010\n",
      "Epoch 4/50\n",
      "48/48 [==============================] - 60s 1s/step - loss: 0.7166 - accuracy: 0.6257 - val_loss: 0.6426 - val_accuracy: 0.6927 - lr: 0.0010\n",
      "Epoch 5/50\n",
      "48/48 [==============================] - 60s 1s/step - loss: 0.6667 - accuracy: 0.6484 - val_loss: 0.5918 - val_accuracy: 0.7370 - lr: 0.0010\n",
      "Epoch 6/50\n",
      "48/48 [==============================] - 60s 1s/step - loss: 0.6577 - accuracy: 0.6393 - val_loss: 0.6967 - val_accuracy: 0.7109 - lr: 0.0010\n",
      "Epoch 7/50\n",
      "48/48 [==============================] - 62s 1s/step - loss: 0.6585 - accuracy: 0.6270 - val_loss: 0.5593 - val_accuracy: 0.7344 - lr: 0.0010\n",
      "Epoch 8/50\n",
      "48/48 [==============================] - 60s 1s/step - loss: 0.6423 - accuracy: 0.6276 - val_loss: 0.5853 - val_accuracy: 0.7135 - lr: 0.0010\n",
      "Epoch 9/50\n",
      "48/48 [==============================] - 62s 1s/step - loss: 0.6394 - accuracy: 0.6615 - val_loss: 0.6879 - val_accuracy: 0.6562 - lr: 0.0010\n",
      "Epoch 10/50\n",
      "48/48 [==============================] - 60s 1s/step - loss: 0.6620 - accuracy: 0.6569 - val_loss: 0.5721 - val_accuracy: 0.7318 - lr: 0.0010\n",
      "Epoch 11/50\n",
      "48/48 [==============================] - 59s 1s/step - loss: 0.6092 - accuracy: 0.6745 - val_loss: 0.5168 - val_accuracy: 0.7344 - lr: 0.0010\n",
      "Epoch 12/50\n",
      "48/48 [==============================] - 60s 1s/step - loss: 0.6018 - accuracy: 0.6895 - val_loss: 0.5337 - val_accuracy: 0.7474 - lr: 0.0010\n",
      "Epoch 13/50\n",
      "48/48 [==============================] - 60s 1s/step - loss: 0.6200 - accuracy: 0.6810 - val_loss: 0.5925 - val_accuracy: 0.7135 - lr: 0.0010\n",
      "Epoch 14/50\n",
      "48/48 [==============================] - 60s 1s/step - loss: 0.6179 - accuracy: 0.6719 - val_loss: 0.5687 - val_accuracy: 0.7370 - lr: 0.0010\n",
      "Epoch 15/50\n",
      "48/48 [==============================] - 59s 1s/step - loss: 0.6307 - accuracy: 0.6803 - val_loss: 0.6126 - val_accuracy: 0.7396 - lr: 0.0010\n",
      "Epoch 16/50\n",
      "48/48 [==============================] - ETA: 0s - loss: 0.6504 - accuracy: 0.6719\n",
      "Epoch 16: ReduceLROnPlateau reducing learning rate to 0.0005000000237487257.\n",
      "48/48 [==============================] - 60s 1s/step - loss: 0.6504 - accuracy: 0.6719 - val_loss: 0.5748 - val_accuracy: 0.7578 - lr: 0.0010\n",
      "Epoch 17/50\n",
      "48/48 [==============================] - 60s 1s/step - loss: 0.6052 - accuracy: 0.6973 - val_loss: 0.4987 - val_accuracy: 0.7786 - lr: 5.0000e-04\n",
      "Epoch 18/50\n",
      "48/48 [==============================] - 59s 1s/step - loss: 0.5693 - accuracy: 0.6960 - val_loss: 0.4843 - val_accuracy: 0.7682 - lr: 5.0000e-04\n",
      "Epoch 19/50\n",
      "48/48 [==============================] - 60s 1s/step - loss: 0.6007 - accuracy: 0.6979 - val_loss: 0.5567 - val_accuracy: 0.7656 - lr: 5.0000e-04\n",
      "Epoch 20/50\n",
      "48/48 [==============================] - 60s 1s/step - loss: 0.6051 - accuracy: 0.6927 - val_loss: 0.5754 - val_accuracy: 0.7526 - lr: 5.0000e-04\n",
      "Epoch 21/50\n",
      "48/48 [==============================] - 62s 1s/step - loss: 0.5975 - accuracy: 0.6999 - val_loss: 0.5715 - val_accuracy: 0.7422 - lr: 5.0000e-04\n",
      "Epoch 22/50\n",
      "48/48 [==============================] - 60s 1s/step - loss: 0.5829 - accuracy: 0.7077 - val_loss: 0.5081 - val_accuracy: 0.7734 - lr: 5.0000e-04\n",
      "Epoch 23/50\n",
      "48/48 [==============================] - ETA: 0s - loss: 0.5653 - accuracy: 0.7064\n",
      "Epoch 23: ReduceLROnPlateau reducing learning rate to 0.0002500000118743628.\n",
      "48/48 [==============================] - 59s 1s/step - loss: 0.5653 - accuracy: 0.7064 - val_loss: 0.5770 - val_accuracy: 0.7526 - lr: 5.0000e-04\n",
      "Epoch 24/50\n",
      "48/48 [==============================] - 59s 1s/step - loss: 0.5516 - accuracy: 0.7266 - val_loss: 0.4682 - val_accuracy: 0.7917 - lr: 2.5000e-04\n",
      "Epoch 25/50\n",
      "48/48 [==============================] - 59s 1s/step - loss: 0.5390 - accuracy: 0.7435 - val_loss: 0.4904 - val_accuracy: 0.7786 - lr: 2.5000e-04\n",
      "Epoch 26/50\n",
      "48/48 [==============================] - 60s 1s/step - loss: 0.5219 - accuracy: 0.7467 - val_loss: 0.4685 - val_accuracy: 0.7917 - lr: 2.5000e-04\n",
      "Epoch 27/50\n",
      "48/48 [==============================] - 60s 1s/step - loss: 0.5417 - accuracy: 0.7253 - val_loss: 0.5246 - val_accuracy: 0.7812 - lr: 2.5000e-04\n",
      "Epoch 28/50\n",
      "48/48 [==============================] - 60s 1s/step - loss: 0.5387 - accuracy: 0.7415 - val_loss: 0.4845 - val_accuracy: 0.7943 - lr: 2.5000e-04\n",
      "Epoch 29/50\n",
      "48/48 [==============================] - ETA: 0s - loss: 0.5467 - accuracy: 0.7448\n",
      "Epoch 29: ReduceLROnPlateau reducing learning rate to 0.0001250000059371814.\n",
      "48/48 [==============================] - 59s 1s/step - loss: 0.5467 - accuracy: 0.7448 - val_loss: 0.4900 - val_accuracy: 0.7917 - lr: 2.5000e-04\n",
      "Epoch 30/50\n",
      "48/48 [==============================] - 60s 1s/step - loss: 0.5416 - accuracy: 0.7435 - val_loss: 0.4890 - val_accuracy: 0.8203 - lr: 1.2500e-04\n",
      "Epoch 31/50\n",
      "48/48 [==============================] - 66s 1s/step - loss: 0.5318 - accuracy: 0.7396 - val_loss: 0.4466 - val_accuracy: 0.8281 - lr: 1.2500e-04\n",
      "Epoch 32/50\n",
      "48/48 [==============================] - 75s 2s/step - loss: 0.5345 - accuracy: 0.7474 - val_loss: 0.4757 - val_accuracy: 0.7760 - lr: 1.2500e-04\n",
      "Epoch 33/50\n",
      "48/48 [==============================] - 75s 2s/step - loss: 0.5280 - accuracy: 0.7448 - val_loss: 0.4383 - val_accuracy: 0.8333 - lr: 1.2500e-04\n",
      "Epoch 34/50\n",
      "48/48 [==============================] - 74s 2s/step - loss: 0.5279 - accuracy: 0.7402 - val_loss: 0.4904 - val_accuracy: 0.7891 - lr: 1.2500e-04\n",
      "Epoch 35/50\n",
      "48/48 [==============================] - 75s 2s/step - loss: 0.5293 - accuracy: 0.7441 - val_loss: 0.4676 - val_accuracy: 0.8203 - lr: 1.2500e-04\n",
      "Epoch 36/50\n",
      "48/48 [==============================] - 75s 2s/step - loss: 0.5310 - accuracy: 0.7376 - val_loss: 0.4703 - val_accuracy: 0.8255 - lr: 1.2500e-04\n",
      "Epoch 37/50\n",
      "48/48 [==============================] - 74s 2s/step - loss: 0.5229 - accuracy: 0.7389 - val_loss: 0.5014 - val_accuracy: 0.8255 - lr: 1.2500e-04\n",
      "Epoch 38/50\n",
      "48/48 [==============================] - ETA: 0s - loss: 0.5102 - accuracy: 0.7604\n",
      "Epoch 38: ReduceLROnPlateau reducing learning rate to 6.25000029685907e-05.\n",
      "48/48 [==============================] - 74s 2s/step - loss: 0.5102 - accuracy: 0.7604 - val_loss: 0.4420 - val_accuracy: 0.8177 - lr: 1.2500e-04\n",
      "Epoch 39/50\n",
      "48/48 [==============================] - 74s 2s/step - loss: 0.5148 - accuracy: 0.7513 - val_loss: 0.4800 - val_accuracy: 0.8255 - lr: 6.2500e-05\n",
      "Epoch 40/50\n",
      "48/48 [==============================] - 75s 2s/step - loss: 0.5089 - accuracy: 0.7474 - val_loss: 0.4551 - val_accuracy: 0.8203 - lr: 6.2500e-05\n",
      "Epoch 41/50\n",
      "48/48 [==============================] - 75s 2s/step - loss: 0.5206 - accuracy: 0.7591 - val_loss: 0.4436 - val_accuracy: 0.8177 - lr: 6.2500e-05\n",
      "Epoch 42/50\n",
      "48/48 [==============================] - 74s 2s/step - loss: 0.5099 - accuracy: 0.7461 - val_loss: 0.4714 - val_accuracy: 0.8021 - lr: 6.2500e-05\n",
      "Epoch 43/50\n",
      "48/48 [==============================] - ETA: 0s - loss: 0.5006 - accuracy: 0.7533\n",
      "Epoch 43: ReduceLROnPlateau reducing learning rate to 3.125000148429535e-05.\n",
      "48/48 [==============================] - 74s 2s/step - loss: 0.5006 - accuracy: 0.7533 - val_loss: 0.4592 - val_accuracy: 0.8255 - lr: 6.2500e-05\n"
     ]
    }
   ],
   "source": [
    "epochs=50\n",
    "batch_size=50\n",
    "\n",
    "history = model2.fit_generator(\n",
    "    train_generator, \n",
    "    epochs=epochs,\n",
    "    validation_data=validation_generator,\n",
    "    validation_steps=total_validate/batch_size,\n",
    "    steps_per_epoch=total_train/batch_size,\n",
    "    callbacks=callbacks\n",
    ")"
   ]
  },
  {
   "cell_type": "code",
   "execution_count": 18,
   "id": "f805eb61",
   "metadata": {},
   "outputs": [
    {
     "data": {
      "image/png": "[encoded data removed]",
      "text/plain": [
       "<Figure size 432x432 with 2 Axes>"
      ]
     },
     "metadata": {
      "needs_background": "light"
     },
     "output_type": "display_data"
    }
   ],
   "source": [
    "fig, (ax1, ax2) = plt.subplots(2, 1, figsize=(6,6))\n",
    "ax1.plot(history.history['loss'], color='b', label=\"Training loss\")\n",
    "ax1.plot(history.history['val_loss'], color='r', label=\"validation loss\")\n",
    "ax1.set_xticks(np.arange(1, epochs, 1))\n",
    "ax1.set_yticks(np.arange(0, 1, 0.1))\n",
    "ax1.legend()\n",
    "\n",
    "ax2.plot(history.history['accuracy'], color='b', label=\"Training accuracy\")\n",
    "ax2.plot(history.history['val_accuracy'], color='r',label=\"Validation accuracy\")\n",
    "ax2.set_xticks(np.arange(1, epochs, 1))\n",
    "ax2.legend()\n",
    "\n",
    "legend = plt.legend(loc='best', shadow=True)\n",
    "plt.tight_layout()\n",
    "plt.show()"
   ]
  },
  {
   "cell_type": "code",
   "execution_count": 19,
   "id": "5c53f162",
   "metadata": {},
   "outputs": [],
   "source": [
    "model2.save('carcatdog.hdf5')"
   ]
  },
  {
   "cell_type": "code",
   "execution_count": 20,
   "id": "25814225",
   "metadata": {},
   "outputs": [],
   "source": [
    "from keras import models    \n",
    "model = models.load_model('carcatdog.hdf5', compile = False)"
   ]
  },
  {
   "cell_type": "code",
   "execution_count": 23,
   "id": "3c9d6e8f",
   "metadata": {},
   "outputs": [],
   "source": [
    "test_filenames = os.listdir(\"C:\\\\Users\\\\lenovo\\\\Desktop\\\\Web App\\\\cats_dogs_cars\\\\cats_dogs_cars\\\\test\")\n",
    "test_df = pd.DataFrame({\n",
    "    'filename': test_filenames\n",
    "})"
   ]
  },
  {
   "cell_type": "code",
   "execution_count": 24,
   "id": "4f19e19d",
   "metadata": {},
   "outputs": [
    {
     "name": "stdout",
     "output_type": "stream",
     "text": [
      "Total amount of test images are: 150\n"
     ]
    }
   ],
   "source": [
    "total_test = test_df.shape[0]  \n",
    "print(\"Total amount of test images are:\", total_test)"
   ]
  },
  {
   "cell_type": "code",
   "execution_count": 25,
   "id": "ba63185a",
   "metadata": {},
   "outputs": [
    {
     "name": "stdout",
     "output_type": "stream",
     "text": [
      "Found 150 validated image filenames.\n"
     ]
    }
   ],
   "source": [
    "test_datagen = ImageDataGenerator(rescale=1./255)\n",
    "batch_size = 15\n",
    "\n",
    "test_generator = test_datagen.flow_from_dataframe(\n",
    "    test_df, \n",
    "    \"C:\\\\Users\\\\lenovo\\\\Desktop\\\\Web App\\\\cats_dogs_cars\\\\cats_dogs_cars\\\\test\",\n",
    "    x_col='filename',\n",
    "    y_col=None,\n",
    "    class_mode=None,\n",
    "    target_size=(150,150),\n",
    "    batch_size=batch_size,\n",
    "    shuffle=False \n",
    ")"
   ]
  },
  {
   "cell_type": "code",
   "execution_count": 26,
   "id": "c8cb1149",
   "metadata": {},
   "outputs": [
    {
     "name": "stderr",
     "output_type": "stream",
     "text": [
      "C:\\Users\\lenovo\\AppData\\Local\\Temp\\ipykernel_6532\\3945738597.py:1: UserWarning: `Model.predict_generator` is deprecated and will be removed in a future version. Please use `Model.predict`, which supports generators.\n",
      "  predict = model.predict_generator(test_generator, steps=np.ceil(total_test/batch_size))\n"
     ]
    },
    {
     "name": "stdout",
     "output_type": "stream",
     "text": [
      "Number of predicted images: 150 \n",
      "\n",
      "    0:car          1:cat       2:dog \n",
      "\n",
      " [[4.20810934e-03 4.80428815e-01 5.15363157e-01]\n",
      " [4.64690311e-05 7.16051400e-01 2.83902168e-01]\n",
      " [1.09231479e-01 4.84588832e-01 4.06179667e-01]\n",
      " [9.99987245e-01 4.90932007e-06 7.91552611e-06]\n",
      " [6.76534593e-01 3.47639923e-03 3.19989055e-01]\n",
      " [9.99857426e-01 8.12487633e-05 6.13239317e-05]\n",
      " [3.39051918e-03 6.45531654e-01 3.51077855e-01]\n",
      " [1.14968354e-02 6.08766079e-01 3.79737049e-01]\n",
      " [1.72049776e-02 5.40640056e-01 4.42154884e-01]\n",
      " [9.98510540e-01 1.47995190e-04 1.34150637e-03]\n",
      " [1.99211538e-01 1.71144292e-01 6.29644215e-01]\n",
      " [7.38382587e-05 5.44877291e-01 4.55048889e-01]\n",
      " [6.05979112e-05 6.26384795e-01 3.73554498e-01]\n",
      " [1.00866798e-02 1.37514204e-01 8.52399111e-01]\n",
      " [1.46640977e-02 5.66171467e-01 4.19164419e-01]\n",
      " [3.48372967e-04 6.88957095e-01 3.10694516e-01]\n",
      " [1.08879845e-04 4.23524082e-01 5.76367021e-01]\n",
      " [5.28609529e-02 6.88324273e-01 2.58814812e-01]\n",
      " [1.81900134e-04 6.35006189e-01 3.64811987e-01]\n",
      " [2.35601561e-03 3.58891815e-01 6.38752222e-01]\n",
      " [9.69984662e-03 5.77854276e-01 4.12445873e-01]\n",
      " [9.99833107e-01 1.15854971e-04 5.09831189e-05]\n",
      " [8.39809049e-03 3.09987962e-01 6.81613982e-01]\n",
      " [4.07152018e-03 6.36225164e-01 3.59703273e-01]\n",
      " [5.00722557e-08 9.06007364e-03 9.90939856e-01]\n",
      " [1.16227614e-03 6.71495497e-01 3.27342153e-01]\n",
      " [9.44578438e-04 7.58922100e-01 2.40133330e-01]\n",
      " [7.06764217e-03 6.24790370e-01 3.68142039e-01]\n",
      " [1.64539949e-03 6.33129656e-01 3.65224957e-01]\n",
      " [1.55030354e-03 6.75622761e-01 3.22826952e-01]\n",
      " [3.61500366e-04 3.63703281e-01 6.35935247e-01]\n",
      " [7.44578769e-13 1.36438087e-02 9.86356139e-01]\n",
      " [1.94610329e-03 5.96934795e-01 4.01119053e-01]\n",
      " [9.99998569e-01 7.91290176e-07 6.31319324e-07]\n",
      " [1.45272957e-02 5.15139282e-01 4.70333427e-01]\n",
      " [9.31052923e-01 4.01299782e-02 2.88171098e-02]\n",
      " [4.76678963e-07 4.23007505e-03 9.95769501e-01]\n",
      " [1.32536041e-02 3.44117433e-01 6.42629027e-01]\n",
      " [3.56361736e-04 5.97817004e-01 4.01826710e-01]\n",
      " [2.54915212e-03 3.95194829e-01 6.02256060e-01]\n",
      " [4.06218285e-04 6.74215198e-01 3.25378567e-01]\n",
      " [2.61248811e-03 5.78157246e-01 4.19230312e-01]\n",
      " [5.76803414e-03 6.41173899e-01 3.53058130e-01]\n",
      " [3.66337714e-03 2.04884127e-01 7.91452467e-01]\n",
      " [1.69601694e-01 4.22680080e-01 4.07718211e-01]\n",
      " [9.99758661e-01 1.82240740e-06 2.39527901e-04]\n",
      " [3.60309426e-03 5.05453289e-01 4.90943581e-01]\n",
      " [2.96263080e-02 5.45890749e-01 4.24482912e-01]\n",
      " [3.65798082e-03 5.48277915e-01 4.48064059e-01]\n",
      " [2.25638524e-01 4.12499130e-01 3.61862302e-01]\n",
      " [1.11366548e-02 6.54142857e-01 3.34720433e-01]\n",
      " [2.93702111e-02 5.99268019e-01 3.71361762e-01]\n",
      " [3.54407318e-02 4.71823454e-01 4.92735773e-01]\n",
      " [1.35703102e-01 4.68846917e-01 3.95449936e-01]\n",
      " [7.50112173e-04 6.24751151e-01 3.74498725e-01]\n",
      " [1.03282458e-04 6.44347131e-01 3.55549514e-01]\n",
      " [5.11155813e-05 6.58629537e-02 9.34085906e-01]\n",
      " [1.00732046e-04 4.45568770e-01 5.54330468e-01]\n",
      " [4.66963917e-04 5.71301460e-01 4.28231537e-01]\n",
      " [3.39023545e-02 1.53913751e-01 8.12183917e-01]\n",
      " [2.85586371e-04 6.83505893e-01 3.16208571e-01]\n",
      " [1.60982856e-03 3.65018725e-01 6.33371413e-01]\n",
      " [9.93678153e-01 3.07530770e-03 3.24652460e-03]\n",
      " [2.46674201e-04 5.12955189e-01 4.86798048e-01]\n",
      " [2.42645992e-03 4.63321894e-01 5.34251630e-01]\n",
      " [3.60888732e-03 5.43027043e-01 4.53364074e-01]\n",
      " [4.99508693e-04 9.40020159e-02 9.05498505e-01]\n",
      " [9.81246173e-01 7.96992332e-03 1.07839685e-02]\n",
      " [1.96509409e-05 2.32680455e-01 7.67299891e-01]\n",
      " [9.91019537e-04 5.46767950e-01 4.52241033e-01]\n",
      " [1.28370225e-01 4.24963683e-01 4.46666032e-01]\n",
      " [7.72123970e-03 1.82981700e-01 8.09297085e-01]\n",
      " [1.07312240e-04 5.25722504e-01 4.74170238e-01]\n",
      " [1.78939445e-04 6.78708136e-01 3.21112901e-01]\n",
      " [7.07197329e-03 5.76512456e-01 4.16415572e-01]\n",
      " [9.03366320e-03 6.28657758e-01 3.62308621e-01]\n",
      " [2.54015215e-02 5.35545170e-01 4.39053386e-01]\n",
      " [9.61886486e-04 6.61734879e-01 3.37303191e-01]\n",
      " [3.55612341e-04 4.99576628e-01 5.00067770e-01]\n",
      " [2.19758120e-04 6.44329488e-01 3.55450809e-01]\n",
      " [1.31768174e-02 3.67842883e-01 6.18980289e-01]\n",
      " [1.06346968e-03 2.33293414e-01 7.65643120e-01]\n",
      " [3.05624300e-04 7.70470321e-01 2.29224041e-01]\n",
      " [2.35242434e-02 2.99402386e-01 6.77073359e-01]\n",
      " [2.77175847e-02 3.50695014e-01 6.21587396e-01]\n",
      " [1.36381830e-03 3.07428360e-01 6.91207886e-01]\n",
      " [1.81786003e-04 6.53227508e-01 3.46590728e-01]\n",
      " [7.79028982e-02 5.64894199e-01 3.57202917e-01]\n",
      " [1.19838386e-03 6.36331916e-01 3.62469733e-01]\n",
      " [6.26472151e-03 7.12601542e-01 2.81133741e-01]\n",
      " [2.02078163e-03 5.04503608e-01 4.93475646e-01]\n",
      " [8.75819862e-01 7.71324039e-02 4.70476374e-02]\n",
      " [2.19487876e-01 3.96957219e-01 3.83554816e-01]\n",
      " [2.97430949e-03 4.88115221e-01 5.08910418e-01]\n",
      " [2.15000939e-04 4.13156450e-01 5.86628556e-01]\n",
      " [4.74223125e-05 4.78341937e-01 5.21610677e-01]\n",
      " [3.72220784e-01 3.40894371e-01 2.86884874e-01]\n",
      " [8.21745653e-06 9.53826029e-03 9.90453482e-01]\n",
      " [2.57942229e-05 2.28326302e-02 9.77141559e-01]\n",
      " [6.98517601e-04 3.05051804e-01 6.94249690e-01]\n",
      " [7.21301930e-03 5.72395146e-01 4.20391738e-01]\n",
      " [1.84658542e-03 6.44236863e-01 3.53916556e-01]\n",
      " [1.21809775e-02 5.28069913e-01 4.59749132e-01]\n",
      " [9.99269545e-01 4.26706596e-04 3.03761073e-04]\n",
      " [9.99864221e-01 8.59854626e-05 4.98311019e-05]\n",
      " [9.99998569e-01 7.91290176e-07 6.31319324e-07]\n",
      " [1.08157564e-03 3.16505730e-01 6.82412624e-01]\n",
      " [9.98359382e-01 9.96825751e-04 6.43712585e-04]\n",
      " [9.16104734e-01 5.09212390e-02 3.29740383e-02]\n",
      " [2.65113686e-05 6.48274422e-02 9.35146034e-01]\n",
      " [9.93152738e-01 4.28093504e-03 2.56625214e-03]\n",
      " [9.97764707e-01 1.04079326e-03 1.19456265e-03]\n",
      " [9.93678153e-01 3.07530770e-03 3.24652460e-03]\n",
      " [9.99998569e-01 7.91290176e-07 6.31319324e-07]\n",
      " [6.67136768e-03 3.02259713e-01 6.91068947e-01]\n",
      " [9.99956250e-01 2.13500716e-05 2.24399028e-05]\n",
      " [9.64441359e-01 1.49749648e-02 2.05836184e-02]\n",
      " [5.61919762e-04 7.21115172e-01 2.78322875e-01]\n",
      " [3.91753912e-01 2.38255531e-01 3.69990557e-01]\n",
      " [9.99996305e-01 1.56985016e-06 2.12258351e-06]\n",
      " [6.53430521e-01 1.91722214e-01 1.54847249e-01]\n",
      " [9.94877160e-01 1.90607144e-03 3.21669481e-03]\n",
      " [9.99833107e-01 1.15854971e-04 5.09831189e-05]\n",
      " [9.99936104e-01 3.83810839e-05 2.55099076e-05]\n",
      " [9.99992490e-01 4.58485010e-06 3.01454747e-06]\n",
      " [9.99857426e-01 8.12487633e-05 6.13239317e-05]\n",
      " [9.99935985e-01 3.73950315e-05 2.65963208e-05]\n",
      " [2.17397250e-02 5.60688555e-01 4.17571783e-01]\n",
      " [1.74993288e-03 6.09394848e-01 3.88855189e-01]\n",
      " [9.99691486e-01 1.94717635e-04 1.13788119e-04]\n",
      " [9.96765256e-01 9.85844177e-04 2.24882015e-03]\n",
      " [9.99917865e-01 5.41649824e-05 2.80647764e-05]\n",
      " [9.99917865e-01 5.41649315e-05 2.80647764e-05]\n",
      " [9.99996185e-01 1.99844658e-06 1.76029596e-06]\n",
      " [9.99992490e-01 4.58485920e-06 3.01455043e-06]\n",
      " [9.99540448e-01 1.77812690e-04 2.81851710e-04]\n",
      " [9.99986172e-01 9.30772103e-07 1.28504453e-05]\n",
      " [9.80166733e-01 5.09073678e-03 1.47425300e-02]\n",
      " [9.99803007e-01 1.25512743e-04 7.14879279e-05]\n",
      " [7.87539221e-03 5.62010407e-01 4.30114210e-01]\n",
      " [9.99924302e-01 5.12412516e-05 2.44035418e-05]\n",
      " [1.63865045e-01 4.48314309e-01 3.87820661e-01]\n",
      " [9.99998808e-01 5.95765300e-07 6.40008295e-07]\n",
      " [6.32974744e-01 2.07879588e-01 1.59145668e-01]\n",
      " [9.99935985e-01 3.73950315e-05 2.65963208e-05]\n",
      " [4.23924983e-01 1.97431847e-01 3.78643215e-01]\n",
      " [9.99924302e-01 5.12412516e-05 2.44035418e-05]\n",
      " [9.99998808e-01 5.95766437e-07 6.40009489e-07]\n",
      " [9.99936104e-01 3.83810475e-05 2.55099076e-05]\n",
      " [9.99803007e-01 1.25512626e-04 7.14878624e-05]] \n",
      "\n"
     ]
    }
   ],
   "source": [
    "predict = model.predict_generator(test_generator, steps=np.ceil(total_test/batch_size))\n",
    "\n",
    "# Get total predicteed images       \n",
    "\n",
    "print(\"Number of predicted images:\", len(predict), \"\\n\")\n",
    "\n",
    "# Get predictions in array\n",
    "# These are labels 0, 1, 2 (category)\n",
    "# Use [?:?] to specify range of index in list/array\n",
    "\n",
    "print(\"    0:car          1:cat       2:dog \\n\\n\", predict, \"\\n\")   "
   ]
  },
  {
   "cell_type": "code",
   "execution_count": 27,
   "id": "3584c0d2",
   "metadata": {},
   "outputs": [
    {
     "name": "stdout",
     "output_type": "stream",
     "text": [
      "0    2\n",
      "1    1\n",
      "2    1\n",
      "Name: category, dtype: int64\n"
     ]
    }
   ],
   "source": [
    "test_df['category'] = np.argmax(predict, axis=-1) \n",
    "\n",
    "# Lets see the some predicted values for each category of images\n",
    "# Use [?:?] to specify range \n",
    "\n",
    "print(test_df['category'][0:3]) "
   ]
  },
  {
   "cell_type": "code",
   "execution_count": 28,
   "id": "3d713a4f",
   "metadata": {},
   "outputs": [
    {
     "name": "stdout",
     "output_type": "stream",
     "text": [
      "{'car': 0, 'cat': 1, 'dog': 2}\n",
      "{'car': 0, 'cat': 1, 'dog': 2} \n",
      "\n",
      "{0: 'car', 1: 'cat', 2: 'dog'} \n",
      "\n",
      "0    dog\n",
      "1    cat\n",
      "2    cat\n",
      "3    car\n",
      "Name: category, dtype: object \n",
      "\n",
      "0    dog\n",
      "1    cat\n",
      "2    cat\n",
      "Name: category, dtype: object\n"
     ]
    }
   ],
   "source": [
    "print(train_generator.class_indices) \n",
    "print(validation_generator.class_indices, \"\\n\")\n",
    "\n",
    "# Map labels \n",
    "label_map = dict((v,k) for k,v in train_generator.class_indices.items())\n",
    "test_df['category'] = test_df['category'].replace(label_map)\n",
    "print(label_map, \"\\n\")\n",
    "\n",
    "# See the output of mapped labels\n",
    "print(test_df['category'][0:4], \"\\n\")\n",
    "\n",
    "# Lets replace letters with words to see better\n",
    "print(test_df['category'][0:3])"
   ]
  },
  {
   "cell_type": "code",
   "execution_count": null,
   "id": "0321af5c",
   "metadata": {},
   "outputs": [],
   "source": []
  }
 ],
 "metadata": {
  "kernelspec": {
   "display_name": "Python 3 (ipykernel)",
   "language": "python",
   "name": "python3"
  },
  "language_info": {
   "codemirror_mode": {
    "name": "ipython",
    "version": 3
   },
   "file_extension": ".py",
   "mimetype": "text/x-python",
   "name": "python",
   "nbconvert_exporter": "python",
   "pygments_lexer": "ipython3",
   "version": "3.9.7"
  }
 },
 "nbformat": 4,
 "nbformat_minor": 5
}
